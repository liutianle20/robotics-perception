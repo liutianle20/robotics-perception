{
 "cells": [
  {
   "cell_type": "code",
   "execution_count": 1,
   "metadata": {},
   "outputs": [],
   "source": [
    "# This snippet mainly addresses distortion calibration implemented by OpenCV\n",
    "import cv2\n",
    "import numpy as np\n",
    "import os\n",
    "import glob"
   ]
  },
  {
   "cell_type": "code",
   "execution_count": 2,
   "metadata": {},
   "outputs": [],
   "source": [
    "# define the dimension of chessboard\n",
    "CHESSBOARD = (6, 9)"
   ]
  },
  {
   "cell_type": "code",
   "execution_count": 3,
   "metadata": {},
   "outputs": [],
   "source": [
    "# The criteria is used in OpenCV functions that require iterative algorithms to specify the stopping criteria.\n",
    "# TERM_CRITERIA_EPS specifies the algo. should stop when reaching accuracy 0.001.\n",
    "# TERM_CRITERIA_MAX_ITER specifies the algo. should stop when reaching 30 iterations even if it does not reach specified accuracy.\n",
    "criteria = (cv2.TERM_CRITERIA_EPS + cv2.TERM_CRITERIA_MAX_ITER, 30, 0.001)"
   ]
  },
  {
   "cell_type": "code",
   "execution_count": 4,
   "metadata": {},
   "outputs": [],
   "source": [
    "# Arrays to store object points and image points from all the images.\n",
    "# 3D points are called object points and 2D image points are called image points.\n",
    "objPoints = []\n",
    "imgPoints = []"
   ]
  },
  {
   "cell_type": "code",
   "execution_count": 5,
   "metadata": {},
   "outputs": [],
   "source": [
    "# Create an array in a shape of 1 * (6 * 9) * 3 with zeros.\n",
    "objP = np.zeros((1, CHESSBOARD[0] * CHESSBOARD[1], 3), np.float32)\n",
    "# Generate all x-y-z pairs where z = 0 for to store coordinates of corners.\n",
    "coordinates = np.mgrid[0:CHESSBOARD[0], 0:CHESSBOARD[1]]\n",
    "objP[0, :, :2] =coordinates.T.reshape(-1, 2)"
   ]
  },
  {
   "cell_type": "code",
   "execution_count": 6,
   "metadata": {},
   "outputs": [],
   "source": [
    "# find all image files in directory\n",
    "images = glob.glob('*.png')"
   ]
  },
  {
   "cell_type": "code",
   "execution_count": 7,
   "metadata": {},
   "outputs": [],
   "source": [
    "for fname in images:\n",
    "    image = cv2.imread(fname)\n",
    "    grayColor = cv2.cvtColor(image, cv2.COLOR_BGR2GRAY)\n",
    "    # Detect chessboard corners\n",
    "    retval, corners = cv2.findChessboardCorners(grayColor, \n",
    "                                                CHESSBOARD, \n",
    "                                                cv2.CALIB_CB_ADAPTIVE_THRESH \n",
    "                                                + cv2.CALIB_CB_FAST_CHECK \n",
    "                                                + cv2.CALIB_CB_NORMALIZE_IMAGE)\n",
    "    if retval:\n",
    "        objPoints.append(objP)\n",
    "        # Refine the corners detected by cv2.findChessboardCorners\n",
    "        refinedCorners = cv2.cornerSubPix(grayColor, corners, (11, 11), (-1, -1), criteria)\n",
    "        imgPoints.append(refinedCorners)\n",
    "        corneredImg = cv2.drawChessboardCorners(image, CHESSBOARD, refinedCorners, retval)\n",
    "    h, w = corneredImg.shape[:2]\n",
    "    ret, matrix, distortion, r_vecs, t_vecs = cv2.calibrateCamera( \n",
    "        objPoints, imgPoints, grayColor.shape[::-1], None, None) \n",
    "    new_camera_matrix, roi = cv2.getOptimalNewCameraMatrix(matrix, distortion, (w, h), 1, (w, h))\n",
    "    undistortedImg = cv2.undistort(grayColor, matrix, distortion, None, new_camera_matrix)\n",
    "\n",
    "    # crop the image\n",
    "    x, y, w, h = roi\n",
    "    undistortedImg = undistortedImg[y:y+h, x:x+w]\n",
    "    originalImage = grayColor"
   ]
  },
  {
   "cell_type": "code",
   "execution_count": null,
   "metadata": {},
   "outputs": [],
   "source": [
    "height = max(originalImage.shape[0], undistortedImg.shape[0])\n",
    "width1 = int(originalImage.shape[1] * (height / originalImage.shape[0]))\n",
    "width2 = int(undistortedImg.shape[1] * (height / undistortedImg.shape[0]))\n",
    "originalImage_resized = cv2.resize(originalImage, (width1, height))\n",
    "undistortedImg_resized = cv2.resize(undistortedImg, (width2, height))\n",
    "combined_image = np.hstack((originalImage_resized, undistortedImg_resized))\n",
    "cv2.imshow('Combined Image', combined_image)\n",
    "cv2.waitKey(0)\n",
    "cv2.destroyAllWindows()\n",
    "cv2.imwrite('cornered.png', corneredImg)\n",
    "cv2.imwrite('original.png', originalImage)\n",
    "cv2.imwrite('undistorted.png', undistortedImg)"
   ]
  }
 ],
 "metadata": {
  "kernelspec": {
   "display_name": "robotics",
   "language": "python",
   "name": "python3"
  },
  "language_info": {
   "codemirror_mode": {
    "name": "ipython",
    "version": 3
   },
   "file_extension": ".py",
   "mimetype": "text/x-python",
   "name": "python",
   "nbconvert_exporter": "python",
   "pygments_lexer": "ipython3",
   "version": "3.8.18"
  }
 },
 "nbformat": 4,
 "nbformat_minor": 2
}
